{
 "cells": [
  {
   "cell_type": "markdown",
   "metadata": {},
   "source": [
    "# Portfolio Project 1: Analysis of Medical Insurance Costs"
   ]
  },
  {
   "cell_type": "markdown",
   "metadata": {},
   "source": [
    "# About the Project\n",
    "\n",
    "The following project was completed by Anna McCowan using patient data stored in `insurance.csv`.\n",
    "\n",
    "\n",
    "\n",
    "## Project Objectives:\n",
    "- Analyze the `insurance.csv` dataset by building out Python functions \n",
    "- Use Python libraries to assist in analysis \n",
    "- Document and organize your findings for easy reporting  \n",
    "\n",
    "\n",
    "## Questions Answered:\n",
    "- What are the demographics of the patients in this dataset?\n",
    "- What are the factors that lead to higher medical costs?\n",
    "\n",
    "---\n",
    "---\n",
    "\n",
    "# About the data:\n",
    "- Source: [Medical Cost Personal Datasets](https://www.kaggle.com/datasets/mirichoi0218/insurance)\n",
    "- File name: insurance.csv\n",
    "- Number of rows: 1300\n",
    "- Number of fields: 7\n",
    "    - **age**: age of primary beneficiary\n",
    "    - **sex**: insurance contractor gender, female, male\n",
    "    - **bmi**: body mass index, providing an understanding of body\n",
    "    - **children**: number of children covered by health insurance\n",
    "    - **smoker**: whether or not the primary beneficiary smokes\n",
    "    - **region**: the beneficiary's residential area in the US, northeast, southeast, southwest, northwest.\n",
    "    - **charges**: individual medical costs billed by health insurance"
   ]
  },
  {
   "cell_type": "markdown",
   "metadata": {},
   "source": [
    "---\n",
    "---\n",
    "# Diving into the data:\n",
    "`insurance.csv` can be read by first importing `import csv`. \n",
    "\n",
    "The file is opened using `with open` and then `csv.DictReader` to iterate over the file. This produces a dictionary for each row of data, where the keys are the names of the columns, and the values are the data from the row being read.\n",
    "\n",
    "For `insurance.csv`, the keys: `age`, `sex`, `bmi`, `children`, `smoker`, `region`, `charges`."
   ]
  },
  {
   "cell_type": "code",
   "execution_count": 1,
   "metadata": {},
   "outputs": [],
   "source": [
    "# import csv library\n",
    "import csv\n",
    "\n",
    "# open the file as a list of dictionaries\n",
    "with open ('insurance.csv') as insurance:\n",
    "    insurance_reader = csv.DictReader(insurance)\n",
    "    insurance_list = list(insurance_reader)"
   ]
  },
  {
   "cell_type": "markdown",
   "metadata": {},
   "source": [
    "I have assinged each dictionary to be an item in a list called `insurance_list` here:\n",
    "```python\n",
    "insurance_list = list(insurance_reader)\n",
    "```\n",
    "\n",
    "To see what this looks like, I have printed out the first 5 items in `insurance_list` below. This will be the main list used in my analysis.\n"
   ]
  },
  {
   "cell_type": "code",
   "execution_count": 2,
   "metadata": {
    "scrolled": false
   },
   "outputs": [
    {
     "name": "stdout",
     "output_type": "stream",
     "text": [
      "[{'age': '19', 'sex': 'female', 'bmi': '27.9', 'children': '0', 'smoker': 'yes', 'region': 'southwest', 'charges': '16884.924'}, {'age': '18', 'sex': 'male', 'bmi': '33.77', 'children': '1', 'smoker': 'no', 'region': 'southeast', 'charges': '1725.5523'}, {'age': '28', 'sex': 'male', 'bmi': '33', 'children': '3', 'smoker': 'no', 'region': 'southeast', 'charges': '4449.462'}, {'age': '33', 'sex': 'male', 'bmi': '22.705', 'children': '0', 'smoker': 'no', 'region': 'northwest', 'charges': '21984.47061'}] ...\n"
     ]
    }
   ],
   "source": [
    "print(insurance_list[:4], \"...\")    # looking at the first 5 items in the dataset "
   ]
  },
  {
   "cell_type": "markdown",
   "metadata": {},
   "source": [
    "## Using a Pandas DataFrame to View the Data\n",
    "While it's nice to see the data in a list/dictionary format, it's much easier to read as a DataFrame.\n",
    "\n",
    "Below, I've imported the Pandas library and created a DataFrame `insurance_dataframe` to view the file as a table.   "
   ]
  },
  {
   "cell_type": "code",
   "execution_count": 3,
   "metadata": {},
   "outputs": [
    {
     "name": "stdout",
     "output_type": "stream",
     "text": [
      "  age     sex     bmi children smoker     region      charges\n",
      "0  19  female    27.9        0    yes  southwest    16884.924\n",
      "1  18    male   33.77        1     no  southeast    1725.5523\n",
      "2  28    male      33        3     no  southeast     4449.462\n",
      "3  33    male  22.705        0     no  northwest  21984.47061\n",
      "4  32    male   28.88        0     no  northwest    3866.8552\n"
     ]
    }
   ],
   "source": [
    "# make the data easier to read by using pandas dataframe\n",
    "\n",
    "import pandas as pd\n",
    "insurance_dataframe = pd.DataFrame.from_records(insurance_list)\n",
    "print(insurance_dataframe.head())"
   ]
  },
  {
   "cell_type": "code",
   "execution_count": 4,
   "metadata": {},
   "outputs": [
    {
     "name": "stdout",
     "output_type": "stream",
     "text": [
      "<class 'pandas.core.frame.DataFrame'>\n",
      "RangeIndex: 1338 entries, 0 to 1337\n",
      "Data columns (total 7 columns):\n",
      " #   Column    Non-Null Count  Dtype \n",
      "---  ------    --------------  ----- \n",
      " 0   age       1338 non-null   object\n",
      " 1   sex       1338 non-null   object\n",
      " 2   bmi       1338 non-null   object\n",
      " 3   children  1338 non-null   object\n",
      " 4   smoker    1338 non-null   object\n",
      " 5   region    1338 non-null   object\n",
      " 6   charges   1338 non-null   object\n",
      "dtypes: object(7)\n",
      "memory usage: 73.3+ KB\n",
      "None\n"
     ]
    }
   ],
   "source": [
    "print(insurance_dataframe.info())"
   ]
  },
  {
   "cell_type": "markdown",
   "metadata": {},
   "source": [
    "---\n",
    "---\n",
    "# Data Clean-Up\n",
    "## Create unique lists for each column, assign a variable\n",
    "\n",
    "To analyze and manipulate each column of data, I've created a unique list for each field and assigned it to a variable, for example `age_list`.\n",
    "\n",
    "I've printed what `age_list` looks like below."
   ]
  },
  {
   "cell_type": "code",
   "execution_count": 5,
   "metadata": {},
   "outputs": [
    {
     "name": "stdout",
     "output_type": "stream",
     "text": [
      "age_list = ['19', '18', '28', '33', '32', '31', '46', '37', '37', '60', '25', '62'] ...\n"
     ]
    }
   ],
   "source": [
    "# created a list for each unique field in the dataset\n",
    "age_list = [x['age'] for x in insurance_list]\n",
    "sex_list = [x['sex'] for x in insurance_list]\n",
    "bmi_list = [x['bmi'] for x in insurance_list]\n",
    "children_list = [x['children'] for x in insurance_list]\n",
    "smoker_list = [x['smoker'] for x in insurance_list]\n",
    "region_list = [x['region'] for x in insurance_list]\n",
    "charges_list = [x['charges'] for x in insurance_list]\n",
    "\n",
    "# example list\n",
    "print(\"age_list =\", age_list[:12], \"...\")"
   ]
  },
  {
   "cell_type": "markdown",
   "metadata": {},
   "source": [
    "## Numeric values stored as strings\n",
    "Upon evaluation, the numeric values such as `age` and `bmi` are stored as strings. Below I've created new lists such as `age_list_int` to convert the values to integers (or floats!) rather than strings.\n",
    "\n",
    "<font color = gray>*Note: I intentionally created a new list with suffix \"_int\" rather than override the existing list in case I need to look at these values as strings later on.*</font>"
   ]
  },
  {
   "cell_type": "code",
   "execution_count": 6,
   "metadata": {},
   "outputs": [],
   "source": [
    "age_list_int = [eval(i) for i in age_list]\n",
    "bmi_list_foat = [float(i) for i in bmi_list]\n",
    "children_list_int = [eval(i) for i in children_list]\n",
    "charges_list_foat = [float(i) for i in charges_list]"
   ]
  },
  {
   "cell_type": "markdown",
   "metadata": {},
   "source": [
    "---\n",
    "---\n",
    "\n",
    "# Begin Analysis\n",
    "## Patient Demographics\n",
    "\n",
    "The function `print_patient_demographics()` prints an overview of the data values such as:\n",
    "- total number of patients\n",
    "- total men vs. total women\n",
    "- average age of patients\n"
   ]
  },
  {
   "cell_type": "code",
   "execution_count": 7,
   "metadata": {
    "scrolled": true
   },
   "outputs": [
    {
     "name": "stdout",
     "output_type": "stream",
     "text": [
      "\n",
      "    - There are 1338 patients in the dataset.\n",
      "    - There are 662 females (49%) and 676 males (51%).\n",
      "    - The average age of the patients is 39 years old.\n",
      "    \n"
     ]
    }
   ],
   "source": [
    "total_patients = len(insurance_list)  # total num of patients is the length insurance_list\n",
    "total_sex = lambda sex: sex_list.count(sex)  # lambda function returns num of times `input` occurs in sex_list, `input` is either \"male\" or \"female\" \n",
    "avg_age_patients = round(sum(age_list_int)/total_patients)   # average = sum / total\n",
    "percent_sex = lambda sex: round(total_sex(sex)/total_patients*100)  # lambda function returns percent of `input`\n",
    "\n",
    "def print_patient_demographics():\n",
    "    # print this function to print pre-defined patient demographics\n",
    "    return \"\"\"\n",
    "    - There are {num} patients in the dataset.\n",
    "    - There are {f} females ({pf}%) and {m} males ({pm}%).\n",
    "    - The average age of the patients is {age} years old.\n",
    "    \"\"\".format(num = total_patients, f = total_sex(\"female\"), m = total_sex(\"male\"), pf = percent_sex(\"female\"), pm = percent_sex(\"male\"), age = avg_age_patients)\n",
    "\n",
    "print(print_patient_demographics())"
   ]
  },
  {
   "cell_type": "markdown",
   "metadata": {},
   "source": [
    "---\n",
    "---\n",
    "# Futher Analysis of Age\n",
    "## Range: Oldest Patient and Youngest Patient"
   ]
  },
  {
   "cell_type": "code",
   "execution_count": 8,
   "metadata": {},
   "outputs": [
    {
     "name": "stdout",
     "output_type": "stream",
     "text": [
      "The oldest patient is 64 years old.\n",
      "The youngest patient is 18 years old.\n"
     ]
    }
   ],
   "source": [
    "print(\"The oldest patient is\", max(age_list_int), \"years old.\")\n",
    "print(\"The youngest patient is\", min(age_list_int), \"years old.\")"
   ]
  },
  {
   "cell_type": "markdown",
   "metadata": {},
   "source": [
    "## Average Age of Men vs. Women\n",
    "Below are two methods of finding the average age of men and women.  \n",
    "\n",
    "#### <font color = gray> Method 1"
   ]
  },
  {
   "cell_type": "code",
   "execution_count": 9,
   "metadata": {},
   "outputs": [
    {
     "name": "stdout",
     "output_type": "stream",
     "text": [
      "The average age of the males is 39 years old.\n",
      "The average age of the females is 40 years old.\n"
     ]
    }
   ],
   "source": [
    "def find_avg_age(sex):\n",
    "    \"\"\"\n",
    "    input is string \"male\" or \"female\"\n",
    "    \"\"\"\n",
    "    sum_age = 0\n",
    "    if type(sex) is not str or sex_list.count(sex) == 0:\n",
    "        return \"Please enter either 'male' or 'female'.\"\n",
    "    else:\n",
    "        for each_patient in insurance_list:\n",
    "            if each_patient[\"sex\"] == sex:\n",
    "                sum_age += float(each_patient[\"age\"])\n",
    "        return round(sum_age / sex_list.count(sex))\n",
    "\n",
    "avg_male_age = find_avg_age(\"male\")\n",
    "avg_female_age = find_avg_age(\"female\")\n",
    "\n",
    "print(\"The average age of the males is {avg_male} years old.\".format(avg_male = avg_male_age))\n",
    "print(\"The average age of the females is {avg_female} years old.\".format(avg_female = avg_female_age))"
   ]
  },
  {
   "cell_type": "markdown",
   "metadata": {},
   "source": [
    "#### <font color = gray>  Method 2"
   ]
  },
  {
   "cell_type": "code",
   "execution_count": 10,
   "metadata": {},
   "outputs": [
    {
     "name": "stdout",
     "output_type": "stream",
     "text": [
      "39\n"
     ]
    }
   ],
   "source": [
    "# alternative way to find average age of each sex\n",
    "\n",
    "male_age_list = [eval(x[\"age\"]) for x in insurance_list if x[\"sex\"] == \"male\"]\n",
    "\n",
    "avg_male_age = round(sum(male_age_list) / len(male_age_list))\n",
    "\n",
    "print(avg_male_age) # prints 39"
   ]
  },
  {
   "cell_type": "markdown",
   "metadata": {},
   "source": [
    "# 🌍 Regional Analysis\n",
    "## How many patients are from each region?"
   ]
  },
  {
   "cell_type": "code",
   "execution_count": 11,
   "metadata": {},
   "outputs": [
    {
     "name": "stdout",
     "output_type": "stream",
     "text": [
      "There are 4 unique regions in this dataset. They are: \n",
      "['southwest', 'southeast', 'northwest', 'northeast']\n"
     ]
    }
   ],
   "source": [
    "unique_regions = []\n",
    "for region in region_list:\n",
    "    if region not in unique_regions:\n",
    "        unique_regions.append(region)     # created a list of each unique region\n",
    "        \n",
    "num_regions = len(unique_regions)   # number of regions is the length of the list\n",
    "\n",
    "print(\"There are {num} unique regions in this dataset. They are: \".format(num = num_regions))\n",
    "print(unique_regions)"
   ]
  },
  {
   "cell_type": "code",
   "execution_count": 12,
   "metadata": {},
   "outputs": [
    {
     "name": "stdout",
     "output_type": "stream",
     "text": [
      "{'southwest': 325, 'southeast': 364, 'northwest': 325, 'northeast': 324}\n"
     ]
    }
   ],
   "source": [
    "def count_region(region):\n",
    "    sum_regions = 0\n",
    "    for each_region in region_list:\n",
    "        if each_region == region:\n",
    "            sum_regions += 1\n",
    "    return sum_regions\n",
    "\n",
    "region_dict = {}\n",
    "for each_region in unique_regions:\n",
    "    region_dict[each_region] = count_region(each_region)\n",
    "\n",
    "print(region_dict)"
   ]
  },
  {
   "cell_type": "markdown",
   "metadata": {},
   "source": [
    "<font color= gray>*Observation: Southeast has more patients than the other three regions.*"
   ]
  },
  {
   "cell_type": "markdown",
   "metadata": {},
   "source": [
    "### The Cost of Smoking"
   ]
  },
  {
   "cell_type": "code",
   "execution_count": 13,
   "metadata": {},
   "outputs": [
    {
     "name": "stdout",
     "output_type": "stream",
     "text": [
      "Average cost of medicine: $ 13270.42\n"
     ]
    }
   ],
   "source": [
    "sum_charges = 0\n",
    "for charge in charges_list:\n",
    "    sum_charges += float(charge)\n",
    "avg_charges = round(sum_charges / len(charges_list), 2)\n",
    "print(\"Average cost of medicine: $\", avg_charges)"
   ]
  },
  {
   "cell_type": "code",
   "execution_count": 14,
   "metadata": {},
   "outputs": [
    {
     "name": "stdout",
     "output_type": "stream",
     "text": [
      "274 of the patients are smokers (20%).\n"
     ]
    }
   ],
   "source": [
    "smoker_list_yes = [x for x in insurance_list if x[\"smoker\"] == \"yes\"]\n",
    "smoker_list_no = [x for x in insurance_list if x[\"smoker\"] == \"no\"]\n",
    "\n",
    "total_smokers = len(smoker_list_yes)\n",
    "percent_smokers = round(total_smokers / total_patients * 100)\n",
    "\n",
    "print(\"{num} of the patients are smokers ({p}%).\".format(num = total_smokers, p = percent_smokers))"
   ]
  },
  {
   "cell_type": "code",
   "execution_count": 15,
   "metadata": {},
   "outputs": [
    {
     "name": "stdout",
     "output_type": "stream",
     "text": [
      "The average medical cost for smokers is $ 32050.23\n",
      "The average medical cost for non-smokers is $ 8434.27\n",
      "The annual difference is $ 23615.96\n"
     ]
    }
   ],
   "source": [
    "def find_avg_smoker_cost(answer):\n",
    "    total_smokers_or_nonsmokers = smoker_list.count(answer)\n",
    "    sum_smoker_cost = 0\n",
    "    for each_patient in insurance_list:\n",
    "        if each_patient[\"smoker\"] == answer:\n",
    "            sum_smoker_cost += float(each_patient[\"charges\"])\n",
    "    return round(sum_smoker_cost / total_smokers_or_nonsmokers, 2)\n",
    "\n",
    "\n",
    "avg_smoker_cost = find_avg_smoker_cost(\"yes\")\n",
    "avg_nonsmoker_cost = find_avg_smoker_cost(\"no\")\n",
    "diff_smoker_cost = avg_smoker_cost - avg_nonsmoker_cost\n",
    "\n",
    "print(\"The average medical cost for smokers is $\", avg_smoker_cost)\n",
    "print(\"The average medical cost for non-smokers is $\", avg_nonsmoker_cost)\n",
    "print(\"The annual difference is $\", diff_smoker_cost)"
   ]
  },
  {
   "cell_type": "markdown",
   "metadata": {},
   "source": [
    "### More Cost Analysis"
   ]
  },
  {
   "cell_type": "code",
   "execution_count": 16,
   "metadata": {},
   "outputs": [
    {
     "name": "stdout",
     "output_type": "stream",
     "text": [
      "The average medical cost for males is $13956.75\n",
      "The average medical cost for females is $12569.58\n"
     ]
    }
   ],
   "source": [
    "def find_avg_sex_cost(sex):\n",
    "    total_sex = sex_list.count(sex)\n",
    "    sum_sex_cost = 0\n",
    "    for each_patient in insurance_list:\n",
    "        if each_patient[\"sex\"] == sex:\n",
    "            sum_sex_cost += float(each_patient[\"charges\"])\n",
    "    return round(sum_sex_cost / total_sex, 2)\n",
    "\n",
    "avg_male_cost = find_avg_sex_cost(\"male\")\n",
    "avg_female_cost = find_avg_sex_cost(\"female\")\n",
    "\n",
    "print(\"The average medical cost for males is ${avg_male_cost}\".format(avg_male_cost = avg_male_cost))\n",
    "print(\"The average medical cost for females is ${avg_female_cost}\".format(avg_female_cost = avg_female_cost))"
   ]
  },
  {
   "cell_type": "code",
   "execution_count": 17,
   "metadata": {},
   "outputs": [
    {
     "name": "stdout",
     "output_type": "stream",
     "text": [
      "Southwest: $12346.94\n",
      "Northwest: $12417.58\n",
      "Southeast: $14735.41\n",
      "Northeast: $13406.38\n"
     ]
    }
   ],
   "source": [
    "def find_avg_region_cost(region):\n",
    "    sum_region_cost = 0\n",
    "    for each_patient in insurance_list:\n",
    "        if each_patient[\"region\"] == region:\n",
    "            sum_region_cost += float(each_patient[\"charges\"])\n",
    "    return round(sum_region_cost / count_region(region), 2)\n",
    "\n",
    "avg_sw_cost = find_avg_region_cost(\"southwest\")\n",
    "avg_nw_cost = find_avg_region_cost(\"northwest\")\n",
    "avg_se_cost = find_avg_region_cost(\"southeast\")\n",
    "avg_ne_cost = find_avg_region_cost(\"northeast\")\n",
    "\n",
    "print(\"Southwest: ${cost}\".format(cost = avg_sw_cost))\n",
    "print(\"Northwest: ${cost}\".format(cost = avg_nw_cost))\n",
    "print(\"Southeast: ${cost}\".format(cost = avg_se_cost))\n",
    "print(\"Northeast: ${cost}\".format(cost = avg_ne_cost))"
   ]
  },
  {
   "cell_type": "markdown",
   "metadata": {},
   "source": [
    "### Parental Findings"
   ]
  },
  {
   "cell_type": "code",
   "execution_count": 18,
   "metadata": {},
   "outputs": [
    {
     "name": "stdout",
     "output_type": "stream",
     "text": [
      "764 patients have one or more child.\n"
     ]
    }
   ],
   "source": [
    "def how_many_parents():\n",
    "    sum_parents = 0\n",
    "    for each_patient in insurance_list:\n",
    "        if each_patient[\"children\"] != \"0\":\n",
    "            sum_parents += 1\n",
    "    return sum_parents\n",
    "\n",
    "print(how_many_parents(), \"patients have one or more child.\") "
   ]
  },
  {
   "cell_type": "markdown",
   "metadata": {},
   "source": [
    "#### Added a yes / no field called \"parent\""
   ]
  },
  {
   "cell_type": "code",
   "execution_count": 19,
   "metadata": {},
   "outputs": [],
   "source": [
    "def are_you_a_parent():\n",
    "    for each_patient in insurance_list:\n",
    "        if each_patient[\"children\"] != \"0\":\n",
    "            each_patient[\"parent\"] = \"yes\"\n",
    "        else:\n",
    "            each_patient[\"parent\"] = \"no\"\n",
    "\n",
    "are_you_a_parent()\n",
    "parent_list = [x['parent'] for x in insurance_list] \n",
    "# print(insurance_list[:4]) # checking my work :)"
   ]
  },
  {
   "cell_type": "code",
   "execution_count": 20,
   "metadata": {},
   "outputs": [],
   "source": [
    "def avg_cost_of_children(num_children):\n",
    "    sum_cost = 0\n",
    "    if children_list.count(str(num_children)) == 0:\n",
    "        return \"There are no patients with that number of children in this dataset.\"\n",
    "    else:\n",
    "        for each_patient in insurance_list:\n",
    "            if each_patient[\"children\"] == str(num_children):\n",
    "                sum_cost += float(each_patient[\"charges\"])\n",
    "        return round(sum_cost / children_list.count(str(num_children)), 2)"
   ]
  },
  {
   "cell_type": "code",
   "execution_count": 21,
   "metadata": {},
   "outputs": [],
   "source": [
    "# child_cost_dict = {}\n",
    "# for num in range(6):\n",
    "#     child_cost_dict[num] = avg_cost_of_children(num)\n",
    "# print(child_cost_dict)"
   ]
  },
  {
   "cell_type": "code",
   "execution_count": 22,
   "metadata": {},
   "outputs": [
    {
     "name": "stdout",
     "output_type": "stream",
     "text": [
      "The average medical cost of individuals with 0 children is $12365.98\n",
      "The average medical cost of individuals with 1 children is $12731.17\n",
      "The average medical cost of individuals with 2 children is $15073.56\n",
      "The average medical cost of individuals with 3 children is $15355.32\n",
      "The average medical cost of individuals with 4 children is $13850.66\n",
      "The average medical cost of individuals with 5 children is $8786.04\n"
     ]
    }
   ],
   "source": [
    "for num in range(6):\n",
    "    print(\"The average medical cost of individuals with {num} children is ${cost}\".format(num = num, cost = avg_cost_of_children(num)))"
   ]
  },
  {
   "cell_type": "code",
   "execution_count": 23,
   "metadata": {},
   "outputs": [
    {
     "name": "stdout",
     "output_type": "stream",
     "text": [
      "The average medical cost of parents is : 13949.94\n",
      "The average medical cost of non-parents is : 12365.98\n"
     ]
    }
   ],
   "source": [
    "def find_avg_parent_cost(answer):\n",
    "    sum_cost = 0\n",
    "    for each_patient in insurance_list:\n",
    "        if each_patient[\"parent\"] == answer:\n",
    "            sum_cost += float(each_patient[\"charges\"])\n",
    "    return round(sum_cost / parent_list.count(answer), 2)\n",
    "\n",
    "avg_parent_cost = find_avg_parent_cost(\"yes\")\n",
    "avg_nonparent_cost = find_avg_parent_cost(\"no\")\n",
    "\n",
    "print(\"The average medical cost of parents is :\", avg_parent_cost)\n",
    "print(\"The average medical cost of non-parents is :\", avg_nonparent_cost)"
   ]
  },
  {
   "cell_type": "markdown",
   "metadata": {},
   "source": [
    "# Question: Which variable is most costly to patients?"
   ]
  },
  {
   "cell_type": "markdown",
   "metadata": {},
   "source": [
    "### Age\n",
    "- Group 1 (Ages 18-29)\n",
    "- Group 2 (Ages 30-44)\n",
    "- Group 3 (Ages 45-64)"
   ]
  },
  {
   "cell_type": "code",
   "execution_count": 24,
   "metadata": {},
   "outputs": [
    {
     "name": "stdout",
     "output_type": "stream",
     "text": [
      "Group 1 (Ages 18-29): $ 9182.49\n",
      "Group 2 (Ages 30-44): $ 13270.42\n",
      "Group 3 (Ages 45-64): $ 17070.49\n"
     ]
    }
   ],
   "source": [
    "age_group1 = [x for x in insurance_list if int(x[\"age\"]) < 30]\n",
    "age_group2 = [x for x in insurance_list if int(x[\"age\"]) >= 30 or int(x[\"age\"]) < 45]\n",
    "age_group3 = [x for x in insurance_list if int(x[\"age\"]) >= 45]\n",
    "\n",
    "def find_cost(group):\n",
    "    sum_cost = 0\n",
    "    for each_patient in group:\n",
    "        sum_cost += float(each_patient[\"charges\"])\n",
    "    return round(sum_cost / len(group), 2)\n",
    "\n",
    "age_group1_cost = find_cost(age_group1)\n",
    "age_group2_cost = find_cost(age_group2)\n",
    "age_group3_cost = find_cost(age_group3)\n",
    "\n",
    "print(\"Group 1 (Ages 18-29): $\", age_group1_cost)\n",
    "print(\"Group 2 (Ages 30-44): $\", age_group2_cost)\n",
    "print(\"Group 3 (Ages 45-64): $\", age_group3_cost)"
   ]
  },
  {
   "cell_type": "markdown",
   "metadata": {},
   "source": [
    "### Sex\n",
    "- Male\n",
    "- Female"
   ]
  },
  {
   "cell_type": "code",
   "execution_count": 25,
   "metadata": {},
   "outputs": [
    {
     "name": "stdout",
     "output_type": "stream",
     "text": [
      "The average medical cost for males is $13956.75\n",
      "The average medical cost for females is $12569.58\n"
     ]
    }
   ],
   "source": [
    "print(\"The average medical cost for males is ${avg_male_cost}\".format(avg_male_cost = avg_male_cost))\n",
    "print(\"The average medical cost for females is ${avg_female_cost}\".format(avg_female_cost = avg_female_cost))"
   ]
  },
  {
   "cell_type": "markdown",
   "metadata": {},
   "source": [
    "### BMI \n",
    "- If your BMI is less than 18.5, it falls within the underweight range.\n",
    "- If your BMI is 18.5 to <25, it falls within the healthy weight range.\n",
    "- If your BMI is 25.0 to <30, it falls within the overweight range.\n",
    "- If your BMI is 30.0 or higher, it falls within the obesity range."
   ]
  },
  {
   "cell_type": "code",
   "execution_count": 26,
   "metadata": {},
   "outputs": [
    {
     "name": "stdout",
     "output_type": "stream",
     "text": [
      "BMI Group 1 (< 18.5): $ 8852.2\n",
      "BMI Group 2 (18.5 - 24): $ 13270.42\n",
      "BMI Group 3 (25 - 29): $ 13270.42\n",
      "BMI Group 4 (> 29): $ 15552.34\n"
     ]
    }
   ],
   "source": [
    "bmi_list_int = [eval(i) for i in bmi_list]\n",
    "bmi_group1 = [x for x in insurance_list if float(x[\"bmi\"]) < 18.5]\n",
    "bmi_group2 = [x for x in insurance_list if float(x[\"bmi\"]) >= 18.5 or float(x[\"bmi\"]) < 25]\n",
    "bmi_group3 = [x for x in insurance_list if float(x[\"bmi\"]) >= 25 or float(x[\"bmi\"]) < 30]\n",
    "bmi_group4 = [x for x in insurance_list if float(x[\"bmi\"]) >= 30]\n",
    "\n",
    "print(\"BMI Group 1 (< 18.5): $\", find_cost(bmi_group1))\n",
    "print(\"BMI Group 2 (18.5 - 24): $\", find_cost(bmi_group2))\n",
    "print(\"BMI Group 3 (25 - 29): $\", find_cost(bmi_group3))\n",
    "print(\"BMI Group 4 (> 29): $\", find_cost(bmi_group4))"
   ]
  },
  {
   "cell_type": "markdown",
   "metadata": {},
   "source": [
    "### Children\n",
    "- Parents\n",
    "- Non-parents"
   ]
  },
  {
   "cell_type": "code",
   "execution_count": 27,
   "metadata": {},
   "outputs": [
    {
     "name": "stdout",
     "output_type": "stream",
     "text": [
      "The average medical cost of parents is: $ 13949.94\n",
      "The average medical cost of non-parents is: $ 12365.98\n"
     ]
    }
   ],
   "source": [
    "print(\"The average medical cost of parents is: $\", avg_parent_cost)\n",
    "print(\"The average medical cost of non-parents is: $\", avg_nonparent_cost)"
   ]
  },
  {
   "cell_type": "markdown",
   "metadata": {},
   "source": [
    "### Smoker\n",
    "- Yes\n",
    "- No"
   ]
  },
  {
   "cell_type": "code",
   "execution_count": 28,
   "metadata": {},
   "outputs": [
    {
     "name": "stdout",
     "output_type": "stream",
     "text": [
      "The average cost of being a smoker is $ 32050.23\n",
      "The average cost of being a non-smoker is $ 8434.27\n"
     ]
    }
   ],
   "source": [
    "# I did this a different way earlier. Showing a new way of doing it by creating a new list of smokers\n",
    "smoker_group = [x for x in insurance_list if x[\"smoker\"] == \"yes\"]\n",
    "nonsmoker_group = [x for x in insurance_list if x[\"smoker\"] == \"no\"]\n",
    "\n",
    "print(\"The average cost of being a smoker is $\", find_cost(smoker_group))\n",
    "print(\"The average cost of being a non-smoker is $\", find_cost(nonsmoker_group))"
   ]
  },
  {
   "cell_type": "markdown",
   "metadata": {},
   "source": [
    "### Region\n",
    "- Southwest\n",
    "- Northwest\n",
    "- Southeast\n",
    "- Northeast"
   ]
  },
  {
   "cell_type": "code",
   "execution_count": 29,
   "metadata": {},
   "outputs": [
    {
     "name": "stdout",
     "output_type": "stream",
     "text": [
      "The average cost for patients in the southwest is $ 12346.94\n",
      "The average cost for patients in the northwest is $ 12417.58\n",
      "The average cost for patients in the southeast is $ 14735.41\n",
      "The average cost for patients in the northeast is $ 13406.38\n"
     ]
    }
   ],
   "source": [
    "southwest_group = [x for x in insurance_list if x[\"region\"] == \"southwest\"]\n",
    "northwest_group = [x for x in insurance_list if x[\"region\"] == \"northwest\"]\n",
    "southeast_group = [x for x in insurance_list if x[\"region\"] == \"southeast\"]\n",
    "northeast_group = [x for x in insurance_list if x[\"region\"] == \"northeast\"]\n",
    "\n",
    "print(\"The average cost for patients in the southwest is $\", find_cost(southwest_group))\n",
    "print(\"The average cost for patients in the northwest is $\", find_cost(northwest_group))\n",
    "print(\"The average cost for patients in the southeast is $\", find_cost(southeast_group))\n",
    "print(\"The average cost for patients in the northeast is $\", find_cost(northeast_group))\n"
   ]
  },
  {
   "cell_type": "code",
   "execution_count": 30,
   "metadata": {},
   "outputs": [
    {
     "name": "stdout",
     "output_type": "stream",
     "text": [
      "The average BMI of patients in the southwest is 30.6\n",
      "The average BMI of patients in the northwest is 29.2\n",
      "The average BMI of patients in the southeast is 33.4\n",
      "The average BMI of patients in the northeast is 29.2\n"
     ]
    }
   ],
   "source": [
    "def find_avg_bmi(group):\n",
    "    sum_bmi = 0\n",
    "    for each_patient in group:\n",
    "        sum_bmi += float(each_patient[\"bmi\"])\n",
    "    return round(sum_bmi / len(group), 1)\n",
    "\n",
    "print(\"The average BMI of patients in the southwest is\", find_avg_bmi(southwest_group))\n",
    "print(\"The average BMI of patients in the northwest is\", find_avg_bmi(northwest_group))\n",
    "print(\"The average BMI of patients in the southeast is\", find_avg_bmi(southeast_group))\n",
    "print(\"The average BMI of patients in the northeast is\", find_avg_bmi(northeast_group))\n"
   ]
  },
  {
   "cell_type": "code",
   "execution_count": 31,
   "metadata": {},
   "outputs": [],
   "source": [
    "# series1 = pd.Series(age_list)\n",
    "# print(series1)"
   ]
  }
 ],
 "metadata": {
  "kernelspec": {
   "display_name": "Python 3 (ipykernel)",
   "language": "python",
   "name": "python3"
  },
  "language_info": {
   "codemirror_mode": {
    "name": "ipython",
    "version": 3
   },
   "file_extension": ".py",
   "mimetype": "text/x-python",
   "name": "python",
   "nbconvert_exporter": "python",
   "pygments_lexer": "ipython3",
   "version": "3.10.10"
  }
 },
 "nbformat": 4,
 "nbformat_minor": 4
}
